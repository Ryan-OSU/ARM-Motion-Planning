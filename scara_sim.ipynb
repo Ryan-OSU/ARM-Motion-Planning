{
 "cells": [
  {
   "cell_type": "code",
   "execution_count": null,
   "id": "c23e69ab-64ef-4578-801d-973abdc571c6",
   "metadata": {},
   "outputs": [
    {
     "name": "stdout",
     "output_type": "stream",
     "text": [
      "(0, b'base_joint', 4, -1, -1, 0, 0.0, 0.0, 0.0, -1.0, 0.0, 0.0, b'base_link', (0.0, 0.0, 0.0), (0.0, 0.0, 0.0), (0.0, 0.0, 0.0, 1.0), -1)\n",
      "(1, b'rev_joint_1', 0, 7, 6, 1, 0.0, 0.0, -1.57079633, 1.57079633, 1000.0, 1000.0, b'vertical_link', (0.0, 0.0, 1.0), (0.0, 0.0, 0.0), (0.0, 0.0, 0.0, 1.0), 0)\n",
      "(2, b'prismatic _joint', 1, 8, 7, 1, 0.0, 0.0, 0.0, 5.5, 1000.0, 1000.0, b'arm_1', (0.0, 0.0, 1.0), (0.0, -2.0, 1.0), (0.0, 0.0, 0.0, 1.0), 1)\n",
      "(3, b'rev_joint_2', 0, 9, 8, 1, 0.0, 0.0, -1.57079633, 1.57079633, 1000.0, 1000.0, b'arm_2', (0.0, 0.0, 1.0), (0.0, -1.75, -0.5), (0.0, 0.0, 0.0, 1.0), 2)\n",
      "(4, b'rev_joint_3', 0, 10, 9, 1, 0.0, 0.0, -1.57079633, 1.57079633, 1000.0, 1000.0, b'end_effector', (0.0, 0.0, 1.0), (0.0, -2.5, 0.5), (0.0, 0.0, 0.0, 1.0), 3)\n"
     ]
    }
   ],
   "source": [
    "import pybullet as p\n",
    "import pybullet_data\n",
    "import time\n",
    "\n",
    "p.connect(p.GUI)\n",
    "p.setAdditionalSearchPath(pybullet_data.getDataPath())\n",
    "plane = p.loadURDF(\"plane.urdf\")\n",
    "robot = p.loadURDF(\"scara_robot.urdf\")\n",
    "p.setGravity(0,0,-10)\n",
    "\n",
    "for i in range(p.getNumJoints(robot)):\n",
    "    print(p.getJointInfo(robot, i))\n",
    "\n",
    "while True:\n",
    "    target_arm_1 = 0\n",
    "    target_arm_2 = 0\n",
    "    target_prismatic = 5.5\n",
    "    target_endEffector = 0\n",
    "\n",
    "    p.setJointMotorControlArray(robot, [1,2,3,4], p.POSITION_CONTROL, targetPositions=[target_arm_1, target_prismatic, target_arm_2, target_endEffector])\n",
    "    p.stepSimulation()\n",
    "    time.sleep(1./240)"
   ]
  }
 ],
 "metadata": {
  "kernelspec": {
   "display_name": "Python 3 (ipykernel)",
   "language": "python",
   "name": "python3"
  },
  "language_info": {
   "codemirror_mode": {
    "name": "ipython",
    "version": 3
   },
   "file_extension": ".py",
   "mimetype": "text/x-python",
   "name": "python",
   "nbconvert_exporter": "python",
   "pygments_lexer": "ipython3",
   "version": "3.11.1"
  }
 },
 "nbformat": 4,
 "nbformat_minor": 5
}
