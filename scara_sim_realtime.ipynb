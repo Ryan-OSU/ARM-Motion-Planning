{
 "cells": [
  {
   "cell_type": "code",
   "execution_count": 48,
   "id": "c23e69ab-64ef-4578-801d-973abdc571c6",
   "metadata": {},
   "outputs": [
    {
     "ename": "error",
     "evalue": "Not connected to physics server.",
     "output_type": "error",
     "traceback": [
      "\u001b[1;31m---------------------------------------------------------------------------\u001b[0m",
      "\u001b[1;31merror\u001b[0m                                     Traceback (most recent call last)",
      "Cell \u001b[1;32mIn[48], line 85\u001b[0m\n\u001b[0;32m     82\u001b[0m     \u001b[38;5;28;01mif\u001b[39;00m stop1 \u001b[38;5;129;01mand\u001b[39;00m stop2 \u001b[38;5;129;01mand\u001b[39;00m stop3 \u001b[38;5;129;01mand\u001b[39;00m stop4:\n\u001b[0;32m     83\u001b[0m         \u001b[38;5;28;01mbreak\u001b[39;00m\n\u001b[1;32m---> 85\u001b[0m     \u001b[43msim\u001b[49m\u001b[38;5;241;43m.\u001b[39;49m\u001b[43msetJointMotorControlArray\u001b[49m\u001b[43m(\u001b[49m\u001b[43mrobot\u001b[49m\u001b[43m,\u001b[49m\u001b[43m \u001b[49m\u001b[43m[\u001b[49m\u001b[38;5;241;43m1\u001b[39;49m\u001b[43m,\u001b[49m\u001b[43m \u001b[49m\u001b[38;5;241;43m2\u001b[39;49m\u001b[43m,\u001b[49m\u001b[43m \u001b[49m\u001b[38;5;241;43m3\u001b[39;49m\u001b[43m,\u001b[49m\u001b[43m \u001b[49m\u001b[38;5;241;43m4\u001b[39;49m\u001b[43m]\u001b[49m\u001b[43m,\u001b[49m\u001b[43m \u001b[49m\u001b[43mcontrolMode\u001b[49m\u001b[43m \u001b[49m\u001b[38;5;241;43m=\u001b[39;49m\u001b[43m \u001b[49m\u001b[43msim\u001b[49m\u001b[38;5;241;43m.\u001b[39;49m\u001b[43mPOSITION_CONTROL\u001b[49m\u001b[43m,\u001b[49m\n\u001b[0;32m     86\u001b[0m \u001b[43m                              \u001b[49m\u001b[43mtargetPositions\u001b[49m\u001b[43m \u001b[49m\u001b[38;5;241;43m=\u001b[39;49m\u001b[43m \u001b[49m\u001b[43m[\u001b[49m\u001b[43mj1_temp\u001b[49m\u001b[43m,\u001b[49m\u001b[43m \u001b[49m\u001b[43mj2_temp\u001b[49m\u001b[43m,\u001b[49m\u001b[43m \u001b[49m\u001b[43mj3_temp\u001b[49m\u001b[43m,\u001b[49m\u001b[43m \u001b[49m\u001b[43mj4_temp\u001b[49m\u001b[43m]\u001b[49m\u001b[43m)\u001b[49m\n\u001b[0;32m     87\u001b[0m     time\u001b[38;5;241m.\u001b[39msleep(step)\n\u001b[0;32m     89\u001b[0m \u001b[38;5;28mprint\u001b[39m(j1_temp)\n",
      "\u001b[1;31merror\u001b[0m: Not connected to physics server."
     ]
    }
   ],
   "source": [
    "import pybullet as sim\n",
    "import pybullet_data\n",
    "import time\n",
    "import numpy\n",
    "\n",
    "scale = 0.1\n",
    "physicsClient = sim.connect(sim.GUI)\n",
    "sim.setAdditionalSearchPath(pybullet_data.getDataPath())\n",
    "plane = sim.loadURDF(\"plane.urdf\")\n",
    "robot = sim.loadURDF(\"scara_robot.urdf\",[0,0,0], globalScaling=scale)\n",
    "sim.setGravity(0,0,-9.8)\n",
    "sim.setRealTimeSimulation(True, physicsClient)\n",
    "\n",
    "# for i in range(sim.getNumJoints(robot)):\n",
    "#     print(sim.getJointInfo(robot, i))\n",
    "    \n",
    "joint1_start = (-90)*numpy.pi/180;  # -90 to 90 degrees\n",
    "joint2_start = (10)*scale;           # 10 to 29.95 cm\n",
    "joint3_start = (90)*numpy.pi/180;  # -90 to 90 degrees\n",
    "joint4_start = (45)*numpy.pi/180;  # -90 to 90 degrees\n",
    "\n",
    "joint1_end = (90)*numpy.pi/180;  # -90 to 90 degrees\n",
    "joint2_end = (30)*scale;                # 10 to 29.95 cm\n",
    "joint3_end = (-90)*numpy.pi/180;  # -90 to 90 degrees\n",
    "joint4_end = (-45)*numpy.pi/180;  # -90 to 90 degrees\n",
    "\n",
    "sim.setJointMotorControlArray(robot, [1, 2, 3, 4], controlMode = sim.POSITION_CONTROL,\n",
    "                              targetPositions = [joint1_start, joint2_start, joint3_start, joint4_start])\n",
    "time.sleep(3)\n",
    "\n",
    "j1_temp = joint1_start\n",
    "j2_temp = joint2_start\n",
    "j3_temp = joint3_start\n",
    "j4_temp = joint4_start\n",
    "\n",
    "speed1 = .1       # rad/s\n",
    "speed2 = .1       # cm/s\n",
    "speed3 = .1       # rad/s\n",
    "speed4 = .1       # rad/s\n",
    " \n",
    "step = 0.01    \n",
    "step1 = (joint1_end - joint1_start) * step * speed1\n",
    "step2 = (joint2_end - joint2_start) * step * speed2\n",
    "step3 = (joint3_end - joint3_start) * step * speed3\n",
    "step4 = (joint4_end - joint4_start) * step * speed4\n",
    "\n",
    "stop1 = False\n",
    "stop2 = False\n",
    "stop3 = False\n",
    "stop4 = False\n",
    "\n",
    "for i in range(1000):\n",
    "    if j1_temp < (joint1_end + step1) and j1_temp > (joint1_end - step1) and step1 > 0:\n",
    "        stop1 = True\n",
    "    elif j1_temp > (joint1_end + step1) and j1_temp < (joint1_end - step1) and step1 < 0:\n",
    "        stop1 = True\n",
    "        \n",
    "    if j2_temp < (joint2_end + step2) and j2_temp > (joint2_end - step2) and step2 > 0:\n",
    "        stop2 = True\n",
    "    elif j2_temp > (joint2_end + step2) and j2_temp < (joint2_end - step2) and step2 < 0:\n",
    "        stop2 = True\n",
    "        \n",
    "    if j3_temp < (joint3_end + step3) and j3_temp > (joint3_end - step3) and step3 > 0:\n",
    "        stop3 = True\n",
    "    elif j3_temp > (joint3_end + step3) and j3_temp < (joint3_end - step3) and step3 < 0:\n",
    "        stop3 = True\n",
    "        \n",
    "    if j4_temp < (joint4_end + step4) and j4_temp > (joint4_end - step4) and step4 > 0:\n",
    "        stop4 = True\n",
    "    elif j4_temp > (joint4_end + step4) and j4_temp < (joint4_end - step4) and step4 < 0:\n",
    "        stop4 = True\n",
    "\n",
    "    if stop1 == False:  \n",
    "        j1_temp = j1_temp + step1\n",
    "    if stop2 == False:  \n",
    "        j2_temp = j2_temp + step2\n",
    "    if stop3 == False:  \n",
    "        j3_temp = j3_temp + step3\n",
    "    if stop4 == False:  \n",
    "        j4_temp = j4_temp + step4\n",
    "        \n",
    "    if stop1 and stop2 and stop3 and stop4:\n",
    "        break\n",
    "        \n",
    "    sim.setJointMotorControlArray(robot, [1, 2, 3, 4], controlMode = sim.POSITION_CONTROL,\n",
    "                              targetPositions = [j1_temp, j2_temp, j3_temp, j4_temp])\n",
    "    time.sleep(step)\n",
    "\n",
    "print(j1_temp)\n",
    "print(j2_temp/scale)\n",
    "print(j3_temp)\n",
    "print(j4_temp)"
   ]
  },
  {
   "cell_type": "code",
   "execution_count": 49,
   "id": "8e0ccfa6-2dce-49ff-8cef-6f06e0c5dc8e",
   "metadata": {},
   "outputs": [
    {
     "ename": "error",
     "evalue": "Not connected to physics server.",
     "output_type": "error",
     "traceback": [
      "\u001b[1;31m---------------------------------------------------------------------------\u001b[0m",
      "\u001b[1;31merror\u001b[0m                                     Traceback (most recent call last)",
      "Cell \u001b[1;32mIn[49], line 1\u001b[0m\n\u001b[1;32m----> 1\u001b[0m \u001b[43msim\u001b[49m\u001b[38;5;241;43m.\u001b[39;49m\u001b[43mdisconnect\u001b[49m\u001b[43m(\u001b[49m\u001b[43m)\u001b[49m\n",
      "\u001b[1;31merror\u001b[0m: Not connected to physics server."
     ]
    }
   ],
   "source": [
    "sim.disconnect()\n"
   ]
  }
 ],
 "metadata": {
  "kernelspec": {
   "display_name": "Python 3 (ipykernel)",
   "language": "python",
   "name": "python3"
  },
  "language_info": {
   "codemirror_mode": {
    "name": "ipython",
    "version": 3
   },
   "file_extension": ".py",
   "mimetype": "text/x-python",
   "name": "python",
   "nbconvert_exporter": "python",
   "pygments_lexer": "ipython3",
   "version": "3.11.1"
  }
 },
 "nbformat": 4,
 "nbformat_minor": 5
}
